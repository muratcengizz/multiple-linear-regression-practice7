{
 "cells": [
  {
   "cell_type": "code",
   "execution_count": 40,
   "id": "e819be28-d9d0-4721-a49e-c9ef5d3f8e32",
   "metadata": {},
   "outputs": [],
   "source": [
    "import numpy as np\n",
    "import pandas as pd\n",
    "import seaborn as sns\n",
    "import matplotlib.pyplot as plt\n",
    "from sklearn.linear_model import LinearRegression, Lasso, Ridge, ElasticNet\n",
    "from sklearn.model_selection import train_test_split, cross_val_score, GridSearchCV\n",
    "from sklearn.metrics import mean_squared_error, r2_score\n",
    "from sklearn.preprocessing import LabelEncoder, OneHotEncoder\n",
    "from sklearn.impute import SimpleImputer\n",
    "from sklearn.compose import ColumnTransformer\n",
    "from sklearn.pipeline import Pipeline\n",
    "from scipy.stats import ttest_ind, chi2_contingency"
   ]
  },
  {
   "cell_type": "markdown",
   "id": "ad6a4184-d036-4718-8af0-e3321e4b59f3",
   "metadata": {},
   "source": [
    "# Veri Seti Oluşturulması"
   ]
  },
  {
   "cell_type": "code",
   "execution_count": 41,
   "id": "6257e4f3-3d8a-48c8-a550-4ba741e751c1",
   "metadata": {},
   "outputs": [
    {
     "data": {
      "text/html": [
       "<div>\n",
       "<style scoped>\n",
       "    .dataframe tbody tr th:only-of-type {\n",
       "        vertical-align: middle;\n",
       "    }\n",
       "\n",
       "    .dataframe tbody tr th {\n",
       "        vertical-align: top;\n",
       "    }\n",
       "\n",
       "    .dataframe thead th {\n",
       "        text-align: right;\n",
       "    }\n",
       "</style>\n",
       "<table border=\"1\" class=\"dataframe\">\n",
       "  <thead>\n",
       "    <tr style=\"text-align: right;\">\n",
       "      <th></th>\n",
       "      <th>Age</th>\n",
       "      <th>Income</th>\n",
       "      <th>Gender</th>\n",
       "      <th>Marital Status</th>\n",
       "      <th>Education</th>\n",
       "    </tr>\n",
       "  </thead>\n",
       "  <tbody>\n",
       "    <tr>\n",
       "      <th>0</th>\n",
       "      <td>39.967142</td>\n",
       "      <td>7798.710873</td>\n",
       "      <td>Female</td>\n",
       "      <td>Divorced</td>\n",
       "      <td>College</td>\n",
       "    </tr>\n",
       "    <tr>\n",
       "      <th>1</th>\n",
       "      <td>33.617357</td>\n",
       "      <td>6849.267366</td>\n",
       "      <td>Male</td>\n",
       "      <td>Divorced</td>\n",
       "      <td>Graduate</td>\n",
       "    </tr>\n",
       "    <tr>\n",
       "      <th>2</th>\n",
       "      <td>41.476885</td>\n",
       "      <td>5119.260740</td>\n",
       "      <td>Female</td>\n",
       "      <td>Divorced</td>\n",
       "      <td>College</td>\n",
       "    </tr>\n",
       "    <tr>\n",
       "      <th>3</th>\n",
       "      <td>50.230299</td>\n",
       "      <td>NaN</td>\n",
       "      <td>Male</td>\n",
       "      <td>Single</td>\n",
       "      <td>Graduate</td>\n",
       "    </tr>\n",
       "    <tr>\n",
       "      <th>4</th>\n",
       "      <td>32.658466</td>\n",
       "      <td>NaN</td>\n",
       "      <td>Male</td>\n",
       "      <td>Single</td>\n",
       "      <td>College</td>\n",
       "    </tr>\n",
       "  </tbody>\n",
       "</table>\n",
       "</div>"
      ],
      "text/plain": [
       "         Age       Income  Gender Marital Status Education\n",
       "0  39.967142  7798.710873  Female       Divorced   College\n",
       "1  33.617357  6849.267366    Male       Divorced  Graduate\n",
       "2  41.476885  5119.260740  Female       Divorced   College\n",
       "3  50.230299          NaN    Male         Single  Graduate\n",
       "4  32.658466          NaN    Male         Single   College"
      ]
     },
     "execution_count": 41,
     "metadata": {},
     "output_type": "execute_result"
    }
   ],
   "source": [
    "# veri setinin oluşturulması\n",
    "\n",
    "np.random.seed(42)\n",
    "n = 1000\n",
    "\n",
    "age = np.random.normal(35, 10, n)\n",
    "income = np.random.normal(5000, 2000, n)\n",
    "gender = np.random.choice(['Male', 'Female'], n)\n",
    "marital_status = np.random.choice(['Married', 'Single', 'Divorced'], n)\n",
    "education = np.random.choice(['High School', 'College', 'Graduate'], n)\n",
    "missing_index = np.random.choice(range(n), size=100, replace=False) # 100 adet eksik değer oluşturacağız.\n",
    "outlier_index = np.random.choice(range(n), size=50, replace=False) # 50 adet aykırı gözlem oluşturacağız.\n",
    "income[outlier_index] = np.random.normal(2000, 500, size=50) # income değişkeninde aykırı gözlemleri oluşturduk.\n",
    "\n",
    "data = pd.DataFrame({\n",
    "    'Age': age, 'Income':income, 'Gender':gender,\n",
    "    'Marital Status': marital_status, 'Education':education\n",
    "})\n",
    "\n",
    "data.loc[missing_index, 'Income'] = np.nan\n",
    "\n",
    "data.head()"
   ]
  },
  {
   "cell_type": "markdown",
   "id": "ba47a8d4-9c32-4db4-87f9-56d812688876",
   "metadata": {},
   "source": [
    "# Veri Seti Analizi"
   ]
  },
  {
   "cell_type": "code",
   "execution_count": 42,
   "id": "2d79aa6f-eb4a-41ad-a5f8-e149b0e7e310",
   "metadata": {},
   "outputs": [
    {
     "data": {
      "text/html": [
       "<div>\n",
       "<style scoped>\n",
       "    .dataframe tbody tr th:only-of-type {\n",
       "        vertical-align: middle;\n",
       "    }\n",
       "\n",
       "    .dataframe tbody tr th {\n",
       "        vertical-align: top;\n",
       "    }\n",
       "\n",
       "    .dataframe thead th {\n",
       "        text-align: right;\n",
       "    }\n",
       "</style>\n",
       "<table border=\"1\" class=\"dataframe\">\n",
       "  <thead>\n",
       "    <tr style=\"text-align: right;\">\n",
       "      <th></th>\n",
       "      <th>count</th>\n",
       "      <th>mean</th>\n",
       "      <th>std</th>\n",
       "      <th>min</th>\n",
       "      <th>25%</th>\n",
       "      <th>50%</th>\n",
       "      <th>75%</th>\n",
       "      <th>max</th>\n",
       "    </tr>\n",
       "  </thead>\n",
       "  <tbody>\n",
       "    <tr>\n",
       "      <th>Age</th>\n",
       "      <td>1000.0</td>\n",
       "      <td>35.193321</td>\n",
       "      <td>9.792159</td>\n",
       "      <td>2.587327</td>\n",
       "      <td>28.524097</td>\n",
       "      <td>35.253006</td>\n",
       "      <td>41.479439</td>\n",
       "      <td>73.527315</td>\n",
       "    </tr>\n",
       "    <tr>\n",
       "      <th>Income</th>\n",
       "      <td>900.0</td>\n",
       "      <td>4986.547143</td>\n",
       "      <td>2050.953789</td>\n",
       "      <td>-880.777269</td>\n",
       "      <td>3639.307372</td>\n",
       "      <td>4970.237880</td>\n",
       "      <td>6329.991941</td>\n",
       "      <td>11386.215136</td>\n",
       "    </tr>\n",
       "  </tbody>\n",
       "</table>\n",
       "</div>"
      ],
      "text/plain": [
       "         count         mean          std         min          25%  \\\n",
       "Age     1000.0    35.193321     9.792159    2.587327    28.524097   \n",
       "Income   900.0  4986.547143  2050.953789 -880.777269  3639.307372   \n",
       "\n",
       "                50%          75%           max  \n",
       "Age       35.253006    41.479439     73.527315  \n",
       "Income  4970.237880  6329.991941  11386.215136  "
      ]
     },
     "execution_count": 42,
     "metadata": {},
     "output_type": "execute_result"
    }
   ],
   "source": [
    "data.describe().T"
   ]
  },
  {
   "cell_type": "code",
   "execution_count": 43,
   "id": "11227150-874a-41ea-9bde-6599cf58eb60",
   "metadata": {},
   "outputs": [
    {
     "name": "stdout",
     "output_type": "stream",
     "text": [
      "<class 'pandas.core.frame.DataFrame'>\n",
      "RangeIndex: 1000 entries, 0 to 999\n",
      "Data columns (total 5 columns):\n",
      " #   Column          Non-Null Count  Dtype  \n",
      "---  ------          --------------  -----  \n",
      " 0   Age             1000 non-null   float64\n",
      " 1   Income          900 non-null    float64\n",
      " 2   Gender          1000 non-null   object \n",
      " 3   Marital Status  1000 non-null   object \n",
      " 4   Education       1000 non-null   object \n",
      "dtypes: float64(2), object(3)\n",
      "memory usage: 39.2+ KB\n"
     ]
    }
   ],
   "source": [
    "data.info()"
   ]
  },
  {
   "cell_type": "code",
   "execution_count": 44,
   "id": "bd76bc74-87a7-4904-b958-a72f5bc1fe5d",
   "metadata": {},
   "outputs": [
    {
     "data": {
      "text/plain": [
       "Age                 0\n",
       "Income            100\n",
       "Gender              0\n",
       "Marital Status      0\n",
       "Education           0\n",
       "dtype: int64"
      ]
     },
     "execution_count": 44,
     "metadata": {},
     "output_type": "execute_result"
    }
   ],
   "source": [
    "data.isnull().sum()"
   ]
  },
  {
   "cell_type": "code",
   "execution_count": 45,
   "id": "3ffe8df6-a40a-44cc-95d8-55456fce96f7",
   "metadata": {},
   "outputs": [
    {
     "data": {
      "image/png": "[encoded data removed]",
      "text/plain": [
       "<Figure size 432x288 with 1 Axes>"
      ]
     },
     "metadata": {
      "needs_background": "light"
     },
     "output_type": "display_data"
    }
   ],
   "source": [
    "sns.boxplot(data=data);"
   ]
  },
  {
   "cell_type": "markdown",
   "id": "cdfde26c-fd89-41f4-9bd8-0ef878d96aba",
   "metadata": {},
   "source": [
    "# Veri Ön İşleme"
   ]
  },
  {
   "cell_type": "code",
   "execution_count": 72,
   "id": "20bc1cc0-6a0f-4b78-901a-6095905aed53",
   "metadata": {},
   "outputs": [],
   "source": [
    "# kategorik değişkenleri sayısal değişkenlere dönüştürelim.\n",
    "\n",
    "lbe = LabelEncoder()\n",
    "data['Gender'] = lbe.fit_transform(data['Gender']) # 0:kadın, 1:erkek\n",
    "data['Marital Status'] = lbe.fit_transform(data['Marital Status']) # 0:boşanmış, 1:evli, 2:bekar\n",
    "data['Education'] = lbe.fit_transform(data['Education']) # 0:College 1:Graduate 2:High School"
   ]
  },
  {
   "cell_type": "code",
   "execution_count": 47,
   "id": "edda9f40-5feb-4516-8f6a-5105aae678b1",
   "metadata": {},
   "outputs": [],
   "source": [
    "# eksik gözlemleri ortalama ile dolduralım.\n",
    "\n",
    "imputer = SimpleImputer(strategy='mean')\n",
    "data['Income'] = imputer.fit_transform(data[['Income']])"
   ]
  },
  {
   "cell_type": "code",
   "execution_count": 48,
   "id": "f759bd96-f54e-48bb-9996-47fe3f4c39d8",
   "metadata": {},
   "outputs": [],
   "source": [
    "# aykırı gözlemleri işleyelim.\n",
    "\n",
    "q1, q3 = np.percentile(data['Income'], [25, 75])\n",
    "iqr = q3 - q1\n",
    "alt_sinir = q1 - 1.5 * iqr\n",
    "ust_sinir = q3 + 1.5 * iqr\n",
    "data = data[(data['Income'] >= alt_sinir) & (data['Income'] <= ust_sinir)]"
   ]
  },
  {
   "cell_type": "markdown",
   "id": "d096f9ce-72e8-4a3e-b8ec-9373135ac9cf",
   "metadata": {},
   "source": [
    "# Veri Setinin Görselleştirilmesi"
   ]
  },
  {
   "cell_type": "code",
   "execution_count": 49,
   "id": "34bb20aa-b759-4f41-8eb7-21bfa7812ffe",
   "metadata": {},
   "outputs": [
    {
     "data": {
      "text/html": [
       "<div>\n",
       "<style scoped>\n",
       "    .dataframe tbody tr th:only-of-type {\n",
       "        vertical-align: middle;\n",
       "    }\n",
       "\n",
       "    .dataframe tbody tr th {\n",
       "        vertical-align: top;\n",
       "    }\n",
       "\n",
       "    .dataframe thead th {\n",
       "        text-align: right;\n",
       "    }\n",
       "</style>\n",
       "<table border=\"1\" class=\"dataframe\">\n",
       "  <thead>\n",
       "    <tr style=\"text-align: right;\">\n",
       "      <th></th>\n",
       "      <th>Age</th>\n",
       "      <th>Income</th>\n",
       "      <th>Gender</th>\n",
       "      <th>Marital Status</th>\n",
       "      <th>Education</th>\n",
       "    </tr>\n",
       "  </thead>\n",
       "  <tbody>\n",
       "    <tr>\n",
       "      <th>0</th>\n",
       "      <td>39.967142</td>\n",
       "      <td>7798.710873</td>\n",
       "      <td>0</td>\n",
       "      <td>0</td>\n",
       "      <td>0</td>\n",
       "    </tr>\n",
       "    <tr>\n",
       "      <th>1</th>\n",
       "      <td>33.617357</td>\n",
       "      <td>6849.267366</td>\n",
       "      <td>1</td>\n",
       "      <td>0</td>\n",
       "      <td>1</td>\n",
       "    </tr>\n",
       "    <tr>\n",
       "      <th>2</th>\n",
       "      <td>41.476885</td>\n",
       "      <td>5119.260740</td>\n",
       "      <td>0</td>\n",
       "      <td>0</td>\n",
       "      <td>0</td>\n",
       "    </tr>\n",
       "    <tr>\n",
       "      <th>3</th>\n",
       "      <td>50.230299</td>\n",
       "      <td>4986.547143</td>\n",
       "      <td>1</td>\n",
       "      <td>2</td>\n",
       "      <td>1</td>\n",
       "    </tr>\n",
       "    <tr>\n",
       "      <th>4</th>\n",
       "      <td>32.658466</td>\n",
       "      <td>4986.547143</td>\n",
       "      <td>1</td>\n",
       "      <td>2</td>\n",
       "      <td>0</td>\n",
       "    </tr>\n",
       "  </tbody>\n",
       "</table>\n",
       "</div>"
      ],
      "text/plain": [
       "         Age       Income  Gender  Marital Status  Education\n",
       "0  39.967142  7798.710873       0               0          0\n",
       "1  33.617357  6849.267366       1               0          1\n",
       "2  41.476885  5119.260740       0               0          0\n",
       "3  50.230299  4986.547143       1               2          1\n",
       "4  32.658466  4986.547143       1               2          0"
      ]
     },
     "execution_count": 49,
     "metadata": {},
     "output_type": "execute_result"
    }
   ],
   "source": [
    "data.head()"
   ]
  },
  {
   "cell_type": "code",
   "execution_count": 50,
   "id": "3e4d1c58-f54c-4965-85d6-2e9d41eaed4e",
   "metadata": {},
   "outputs": [
    {
     "data": {
      "image/png": "[encoded data removed]",
      "text/plain": [
       "<Figure size 900x900 with 30 Axes>"
      ]
     },
     "metadata": {
      "needs_background": "light"
     },
     "output_type": "display_data"
    }
   ],
   "source": [
    "sns.pairplot(data=data);"
   ]
  },
  {
   "cell_type": "markdown",
   "id": "b9aafe4c-5281-43e6-8210-fa3bf87538f0",
   "metadata": {},
   "source": [
    "# Hipotez Testleri"
   ]
  },
  {
   "cell_type": "markdown",
   "id": "e0c8b405-7432-4d77-ae35-0651bb45387b",
   "metadata": {},
   "source": [
    "### H0: Erkeklerin gelirleri ile kadınların gelirleri arasında anlamlı bir fark vardır.\n",
    "### H1: Erkeklerin gelirleri ile kadınların gelirleri arasında anlamlı bir fark yoktur."
   ]
  },
  {
   "cell_type": "code",
   "execution_count": 51,
   "id": "b76e4b6d-aa73-4e1c-b0e1-3d09b83c10c1",
   "metadata": {},
   "outputs": [
    {
     "name": "stdout",
     "output_type": "stream",
     "text": [
      "Cinsiyet ve Gelirler İlişkisi T-Testi Sonucu\n",
      "T-Statistic:  -0.7689609345496283\n",
      "P-Value:  0.442101401388187\n"
     ]
    }
   ],
   "source": [
    "male_income = data[data['Gender'] == 0]['Income']\n",
    "female_income = data[data['Gender'] == 1]['Income']\n",
    "t_stat, p_value = ttest_ind(male_income, female_income)\n",
    "\n",
    "print('Cinsiyet ve Gelirler İlişkisi T-Testi Sonucu')\n",
    "print('T-Statistic: ', t_stat)\n",
    "print('P-Value: ', p_value)"
   ]
  },
  {
   "cell_type": "markdown",
   "id": "2bf9ec30-4b87-4957-91a0-afbb631ccedc",
   "metadata": {},
   "source": [
    "#### P-value değerimiz alfa değerinden (0.05) 'den büyük olduğu için hipotezimizi reddedemeyiz. Yani, erkeklerin gelirleri ile kadınların gelirleri arasında anlamlı bir fark vardır."
   ]
  },
  {
   "cell_type": "code",
   "execution_count": null,
   "id": "180e4ab2-719a-49e9-9da6-7ac25c61e28e",
   "metadata": {},
   "outputs": [],
   "source": []
  },
  {
   "cell_type": "markdown",
   "id": "7177409c-6775-4e59-b626-e027b18904b1",
   "metadata": {},
   "source": [
    "### H0: Evli, bekar ve boşanmış kişilerin gelirleri arasında anlamlı bir fark vardır.\n",
    "### H1: Evli, bekar ve boşanmış kişilerin gelirleri arasında anlamlı bir fark yoktur."
   ]
  },
  {
   "cell_type": "code",
   "execution_count": 52,
   "id": "af8773da-6a42-48a0-b15b-b54f35137806",
   "metadata": {},
   "outputs": [
    {
     "name": "stdout",
     "output_type": "stream",
     "text": [
      "Medeni Durum ve Gelirler İlişkisi Chi-Square Testi Sonucu \n",
      "F-Statistic:  5.281274400466286\n",
      "P-Value:  0.7271335054325873\n"
     ]
    }
   ],
   "source": [
    "married_income = data[data['Marital Status'] == 1]['Income'] \n",
    "single_income = data[data['Marital Status'] == 2]['Income']\n",
    "divorced_income = data[data['Marital Status'] == 0]['Income']\n",
    "\n",
    "f_stat, p_value, dof, expected = chi2_contingency(pd.crosstab(data['Marital Status'], pd.cut(data['Income'], 5)))\n",
    "\n",
    "print('Medeni Durum ve Gelirler İlişkisi Chi-Square Testi Sonucu ')\n",
    "print('F-Statistic: ', f_stat)\n",
    "print('P-Value: ', p_value)"
   ]
  },
  {
   "cell_type": "markdown",
   "id": "10f5800a-df04-4f81-b1b1-8b9ae3d7c33e",
   "metadata": {},
   "source": [
    "#### P-value değerimiz alfa değerinden (0.05) büyük olduğu için hipotezimizi reddedemeyiz. Yani, evli, bekar ve boşanmış kişilerin gelirleri arasında anlamlı bir fark vardır."
   ]
  },
  {
   "cell_type": "markdown",
   "id": "8385319c-a7ee-437a-bef5-ed29cdf230e7",
   "metadata": {},
   "source": [
    "# Model İşlemleri"
   ]
  },
  {
   "cell_type": "code",
   "execution_count": 53,
   "id": "cbc45f2d-d111-45c8-ac71-8a641eac6eee",
   "metadata": {},
   "outputs": [],
   "source": [
    "# bağımsız ve bağımlı değişkenleri oluşturalım.\n",
    "X = data.drop('Income', axis=1)\n",
    "y = data['Income']"
   ]
  },
  {
   "cell_type": "code",
   "execution_count": 54,
   "id": "64bac5f8-5afb-4b2c-961f-0970adc8331f",
   "metadata": {},
   "outputs": [],
   "source": [
    "# eğitim ve test setlerinin ayrılması\n",
    "X_train, X_test, y_train, y_test = train_test_split(X, y, test_size=0.2, random_state=42)"
   ]
  },
  {
   "cell_type": "code",
   "execution_count": 55,
   "id": "a644908d-b94d-4545-b4c3-a6447badc8ed",
   "metadata": {},
   "outputs": [],
   "source": [
    "# Model Oluşturulması\n",
    "models = {\n",
    "    'Linear Regression':LinearRegression(),\n",
    "    'Lasso': Lasso(),\n",
    "    'Ridge': Ridge(),\n",
    "    'ElasticNet': ElasticNet()\n",
    "         }"
   ]
  },
  {
   "cell_type": "code",
   "execution_count": 56,
   "id": "5f44b713-9857-4d10-ab90-34fac1894cdf",
   "metadata": {},
   "outputs": [
    {
     "name": "stdout",
     "output_type": "stream",
     "text": [
      "Linear Regression Modeli İçin;\n",
      "MSE Değeri:  3349428.5255218945\n",
      "R-Kare Değeri:  0.007285011899772265\n",
      "Lasso Modeli İçin;\n",
      "MSE Değeri:  3350313.3208892997\n",
      "R-Kare Değeri:  0.007022773247437275\n",
      "Ridge Modeli İçin;\n",
      "MSE Değeri:  3349481.727076589\n",
      "R-Kare Değeri:  0.0072692438425251416\n",
      "ElasticNet Modeli İçin;\n",
      "MSE Değeri:  3362114.387128783\n",
      "R-Kare Değeri:  0.0035251332045965755\n"
     ]
    }
   ],
   "source": [
    "# Model Oluşturulması, Değerlendirilmesi ve Seçimi\n",
    "\n",
    "for name, model in models.items():\n",
    "    model.fit(X_train, y_train)\n",
    "    y_pred = model.predict(X_test)\n",
    "    mse = mean_squared_error(y_test, y_pred)\n",
    "    r2 = r2_score(y_test, y_pred)\n",
    "    \n",
    "    print(f'{name} Modeli İçin;')\n",
    "    print(f'MSE Değeri: ', mse)\n",
    "    print(f'R-Kare Değeri: ', r2)"
   ]
  },
  {
   "cell_type": "markdown",
   "id": "ef538db3-5d05-48ef-8bbb-47ce2433670a",
   "metadata": {},
   "source": [
    "# Model Tuning İşlemi"
   ]
  },
  {
   "cell_type": "code",
   "execution_count": 60,
   "id": "a9ee3d7c-fbe8-492b-96f1-41f191d78e53",
   "metadata": {},
   "outputs": [
    {
     "name": "stdout",
     "output_type": "stream",
     "text": [
      "random_state=0 için; \n",
      "R-Kare Değeri: 0.0005639989677931334\n",
      "MSE Değeri: 3642404.8425890263\n",
      "random_state=20 için; \n",
      "R-Kare Değeri: -0.001570977839796095\n",
      "MSE Değeri: 3408098.0664948313\n",
      "random_state=42 için; \n",
      "R-Kare Değeri: 0.007285011899772265\n",
      "MSE Değeri: 3349428.5255218945\n",
      "random_state=60 için; \n",
      "R-Kare Değeri: -0.03243691274499039\n",
      "MSE Değeri: 2938136.67859938\n",
      "random_state=80 için; \n",
      "R-Kare Değeri: -0.011406703953826813\n",
      "MSE Değeri: 3001508.025528433\n",
      "random_state=100 için; \n",
      "R-Kare Değeri: 0.012083770007841665\n",
      "MSE Değeri: 3580959.6936618034\n"
     ]
    }
   ],
   "source": [
    "# en iyi random_state değerini bulalım.\n",
    "random_states = [0, 20, 42, 60, 80, 100]\n",
    "\n",
    "for element in random_states:\n",
    "    X_train, X_test, y_train, y_test = train_test_split(X, y, test_size=0.2, random_state=element)\n",
    "    model = LinearRegression().fit(X_train, y_train)\n",
    "    y_pred = model.predict(X_test)\n",
    "    r2 = r2_score(y_test, y_pred)\n",
    "    mse = mean_squared_error(y_test, y_pred)\n",
    "    print(f'random_state={element} için; \\nR-Kare Değeri: {r2}\\nMSE Değeri: {mse}')"
   ]
  },
  {
   "cell_type": "markdown",
   "id": "e4033554-5311-4d94-a8c9-698d9bfd07b6",
   "metadata": {},
   "source": [
    "### En iyi random_state değeri için modelimizi tekrar oluşturalım."
   ]
  },
  {
   "cell_type": "code",
   "execution_count": 61,
   "id": "a023faac-c95a-4a24-bf52-f2384811313e",
   "metadata": {},
   "outputs": [],
   "source": [
    "X_train, X_test, y_train, y_test = train_test_split(X, y, test_size=0.3, random_state=100)"
   ]
  },
  {
   "cell_type": "code",
   "execution_count": 62,
   "id": "ce9f7d81-d827-4f0c-8f15-b8fe8754386d",
   "metadata": {},
   "outputs": [],
   "source": [
    "model = LinearRegression().fit(X_train, y_train)"
   ]
  },
  {
   "cell_type": "code",
   "execution_count": 63,
   "id": "bd6b16c3-bd0b-41c0-9af0-a5f98124398e",
   "metadata": {},
   "outputs": [],
   "source": [
    "y_pred = model.predict(X_test)"
   ]
  },
  {
   "cell_type": "code",
   "execution_count": 65,
   "id": "0080b2b4-f8ae-4aca-855d-5ded2553e35d",
   "metadata": {},
   "outputs": [
    {
     "name": "stdout",
     "output_type": "stream",
     "text": [
      "En iyi parametreler: {'copy_X': True, 'fit_intercept': True}\n",
      "MSE Değeri: 3542822.0026080795\n",
      "R-Kare Değeri: 0.007247453172216756\n"
     ]
    }
   ],
   "source": [
    "# hiperparametreleri seçelim.\n",
    "\n",
    "param_grid = {'fit_intercept':[True, False], 'copy_X':[True, False]}\n",
    "grid = GridSearchCV(model, param_grid, cv=5)\n",
    "grid_model = grid.fit(X_train, y_train)\n",
    "grid_pred = grid_model.predict(X_test)\n",
    "\n",
    "print(f'En iyi parametreler: {grid_model.best_params_}')\n",
    "print(f'MSE Değeri: {mean_squared_error(y_test, grid_pred)}')\n",
    "print(f'R-Kare Değeri: {r2_score(y_test, grid_pred)}')"
   ]
  },
  {
   "cell_type": "markdown",
   "id": "1ccc9e3c-b0fc-4452-909d-ab5282f70a1a",
   "metadata": {},
   "source": [
    "# Model Doğrulama İşlemi"
   ]
  },
  {
   "cell_type": "code",
   "execution_count": 70,
   "id": "d1d53385-4ead-446e-bc77-54d89b95f359",
   "metadata": {},
   "outputs": [
    {
     "name": "stdout",
     "output_type": "stream",
     "text": [
      "Cross-Validation Score: [3285954.54320687 4461892.94923564 3486775.24515605 3096316.87513897\n",
      " 3127941.47012396 3335213.2369093  3207253.07390952 2696067.18640424\n",
      " 3322990.84347225 3123674.43017636]\n",
      "Cross-Validation Mean: -3314407.9853733154\n"
     ]
    }
   ],
   "source": [
    "scores = cross_val_score(grid_model, X_train, y_train, cv=10, scoring='neg_mean_squared_error')\n",
    "print(f'Cross-Validation Score: {-scores}')\n",
    "print(f'Cross-Validation Mean: {scores.mean()}')"
   ]
  },
  {
   "cell_type": "markdown",
   "id": "8f1c8001-f0a5-4143-ad45-874d9623ce7a",
   "metadata": {},
   "source": [
    "# Tahmin"
   ]
  },
  {
   "cell_type": "code",
   "execution_count": 71,
   "id": "33dfc258-d3f7-4fad-847d-26e583c8fb80",
   "metadata": {},
   "outputs": [
    {
     "data": {
      "text/html": [
       "<div>\n",
       "<style scoped>\n",
       "    .dataframe tbody tr th:only-of-type {\n",
       "        vertical-align: middle;\n",
       "    }\n",
       "\n",
       "    .dataframe tbody tr th {\n",
       "        vertical-align: top;\n",
       "    }\n",
       "\n",
       "    .dataframe thead th {\n",
       "        text-align: right;\n",
       "    }\n",
       "</style>\n",
       "<table border=\"1\" class=\"dataframe\">\n",
       "  <thead>\n",
       "    <tr style=\"text-align: right;\">\n",
       "      <th></th>\n",
       "      <th>Age</th>\n",
       "      <th>Income</th>\n",
       "      <th>Gender</th>\n",
       "      <th>Marital Status</th>\n",
       "      <th>Education</th>\n",
       "    </tr>\n",
       "  </thead>\n",
       "  <tbody>\n",
       "    <tr>\n",
       "      <th>0</th>\n",
       "      <td>39.967142</td>\n",
       "      <td>7798.710873</td>\n",
       "      <td>0</td>\n",
       "      <td>0</td>\n",
       "      <td>0</td>\n",
       "    </tr>\n",
       "    <tr>\n",
       "      <th>1</th>\n",
       "      <td>33.617357</td>\n",
       "      <td>6849.267366</td>\n",
       "      <td>1</td>\n",
       "      <td>0</td>\n",
       "      <td>1</td>\n",
       "    </tr>\n",
       "    <tr>\n",
       "      <th>2</th>\n",
       "      <td>41.476885</td>\n",
       "      <td>5119.260740</td>\n",
       "      <td>0</td>\n",
       "      <td>0</td>\n",
       "      <td>0</td>\n",
       "    </tr>\n",
       "    <tr>\n",
       "      <th>3</th>\n",
       "      <td>50.230299</td>\n",
       "      <td>4986.547143</td>\n",
       "      <td>1</td>\n",
       "      <td>2</td>\n",
       "      <td>1</td>\n",
       "    </tr>\n",
       "    <tr>\n",
       "      <th>4</th>\n",
       "      <td>32.658466</td>\n",
       "      <td>4986.547143</td>\n",
       "      <td>1</td>\n",
       "      <td>2</td>\n",
       "      <td>0</td>\n",
       "    </tr>\n",
       "  </tbody>\n",
       "</table>\n",
       "</div>"
      ],
      "text/plain": [
       "         Age       Income  Gender  Marital Status  Education\n",
       "0  39.967142  7798.710873       0               0          0\n",
       "1  33.617357  6849.267366       1               0          1\n",
       "2  41.476885  5119.260740       0               0          0\n",
       "3  50.230299  4986.547143       1               2          1\n",
       "4  32.658466  4986.547143       1               2          0"
      ]
     },
     "execution_count": 71,
     "metadata": {},
     "output_type": "execute_result"
    }
   ],
   "source": [
    "data.head()"
   ]
  },
  {
   "cell_type": "code",
   "execution_count": 74,
   "id": "41901b05-ff5a-4b65-ba65-dc8056b49211",
   "metadata": {},
   "outputs": [
    {
     "name": "stdin",
     "output_type": "stream",
     "text": [
      "Yaşınızı Giriniz:  23\n",
      "Cinsiyetinizi Giriniz (Erkek/Kadın):  Erkek\n",
      "Medeni Halinizi Giriniz (Evli/Bekar/Boşanmış):  Bekar\n",
      "Eğitim Durumunuzu Giriniz (Lise/Üniversite/Mezun):  Mezun\n"
     ]
    },
    {
     "name": "stdout",
     "output_type": "stream",
     "text": [
      "Tahmini Geliriniz: 5059.25 \n"
     ]
    },
    {
     "name": "stderr",
     "output_type": "stream",
     "text": [
      "C:\\Users\\murat\\anaconda3\\lib\\site-packages\\sklearn\\base.py:450: UserWarning: X does not have valid feature names, but LinearRegression was fitted with feature names\n",
      "  warnings.warn(\n"
     ]
    }
   ],
   "source": [
    "age = int(input('Yaşınızı Giriniz: '))\n",
    "gender = input('Cinsiyetinizi Giriniz (Erkek/Kadın): ')\n",
    "marital_status = input('Medeni Halinizi Giriniz (Evli/Bekar/Boşanmış): ')\n",
    "education = input('Eğitim Durumunuzu Giriniz (Lise/Üniversite/Mezun): ')\n",
    "\n",
    "if gender == 'Erkek':\n",
    "    gender = 1\n",
    "elif gender == 'Kadın':\n",
    "    gender = 0\n",
    "\n",
    "if marital_status == 'Evli':\n",
    "    marital_status = 1\n",
    "elif marital_status == 'Boşanmış':\n",
    "    marital_status = 0\n",
    "elif marital_status == 'Bekar':\n",
    "    marital_status = 2\n",
    "\n",
    "if education == 'Lise':\n",
    "    education = 0\n",
    "elif education == 'Üniversite':\n",
    "    education = 2\n",
    "elif education == 'Mezun':\n",
    "    education = 1\n",
    "    \n",
    "predict = model.predict([[age, gender, marital_status, education]])\n",
    "\n",
    "print(f'Tahmini Geliriniz: {float(predict):.2f} ')"
   ]
  },
  {
   "cell_type": "markdown",
   "id": "cea0c3de-a116-4364-8322-a9b4ac447370",
   "metadata": {},
   "source": [
    "# Sonuç\n",
    "\n",
    "### Veri setini kendimiz oluşturduğumuz için, bir gerçek hayat senaryosu değildir. Model değerlendirme kısmında elde ettiğimiz P-Value değerleri modelimizin tahmin gücüne güvenebilmek için yeterli değil."
   ]
  }
 ],
 "metadata": {
  "kernelspec": {
   "display_name": "Python 3 (ipykernel)",
   "language": "python",
   "name": "python3"
  },
  "language_info": {
   "codemirror_mode": {
    "name": "ipython",
    "version": 3
   },
   "file_extension": ".py",
   "mimetype": "text/x-python",
   "name": "python",
   "nbconvert_exporter": "python",
   "pygments_lexer": "ipython3",
   "version": "3.9.12"
  }
 },
 "nbformat": 4,
 "nbformat_minor": 5
}
